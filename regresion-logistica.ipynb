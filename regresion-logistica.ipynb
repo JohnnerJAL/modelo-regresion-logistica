{
 "cells": [
  {
   "cell_type": "code",
   "execution_count": 5,
   "id": "202dd2dd-6141-431f-8f23-f2ef3fea58c5",
   "metadata": {},
   "outputs": [
    {
     "name": "stdout",
     "output_type": "stream",
     "text": [
      "   age  sex  cp  trestbps  chol  fbs  restecg  thalach  exang  oldpeak  slope  \\\n",
      "0   69    1   0       160   234    1        2      131      0      0.1      1   \n",
      "1   69    0   0       140   239    0        0      151      0      1.8      0   \n",
      "2   66    0   0       150   226    0        0      114      0      2.6      2   \n",
      "3   65    1   0       138   282    1        2      174      0      1.4      1   \n",
      "4   64    1   0       110   211    0        2      144      1      1.8      1   \n",
      "\n",
      "   ca  thal  condition  \n",
      "0   1     0          0  \n",
      "1   2     0          0  \n",
      "2   0     0          0  \n",
      "3   1     0          1  \n",
      "4   0     0          0  \n",
      "Precisión del modelo: 0.7333333333333333\n",
      "\n",
      "Informe de clasificación:\n",
      "              precision    recall  f1-score   support\n",
      "\n",
      "           0       0.77      0.72      0.74        32\n",
      "           1       0.70      0.75      0.72        28\n",
      "\n",
      "    accuracy                           0.73        60\n",
      "   macro avg       0.73      0.73      0.73        60\n",
      "weighted avg       0.74      0.73      0.73        60\n",
      "\n",
      "\n",
      "Matriz de confusión:\n",
      "[[23  9]\n",
      " [ 7 21]]\n"
     ]
    }
   ],
   "source": [
    "import pandas as pd\n",
    "from sklearn.model_selection import train_test_split\n",
    "from sklearn.linear_model import LogisticRegression\n",
    "from sklearn.metrics import accuracy_score, classification_report, confusion_matrix\n",
    "\n",
    "print('::::Reading file::::')\n",
    "data = pd.read_csv('heart_cleveland_upload.csv')\n",
    "\n",
    "# Ver las primeras filas del DataFrame para comprender la estructura de los datos\n",
    "print(data.head())\n",
    "\n",
    "# Dividir los datos en características (X) y variable objetivo (y)\n",
    "X = data.drop('condition', axis=1)  # Todas las columnas excepto 'condition' son características\n",
    "y = data['condition']  # 'condition' es la variable objetivo\n",
    "\n",
    "# Dividir los datos en conjunto de entrenamiento y conjunto de prueba\n",
    "X_train, X_test, y_train, y_test = train_test_split(X, y, test_size=0.2, random_state=42)\n",
    "\n",
    "# Inicializar el modelo de regresión logística\n",
    "model = LogisticRegression(solver='liblinear', max_iter=1000)\n",
    "\n",
    "# Entrenar el modelo con el conjunto de entrenamiento\n",
    "model.fit(X_train, y_train)\n",
    "\n",
    "# Hacer predicciones en el conjunto de prueba\n",
    "y_pred = model.predict(X_test)\n",
    "\n",
    "print('::::Results::::')\n",
    "# Calcular la precisión del modelo\n",
    "accuracy = accuracy_score(y_test, y_pred)\n",
    "print(\"Precisión del modelo:\", accuracy)\n",
    "\n",
    "# Mostrar el informe de clasificación\n",
    "print(\"\\nInforme de clasificación:\")\n",
    "print(classification_report(y_test, y_pred))\n",
    "\n",
    "# Mostrar la matriz de confusión\n",
    "print(\"\\nMatriz de confusión:\")\n",
    "print(confusion_matrix(y_test, y_pred))\n"
   ]
  }
 ],
 "metadata": {
  "kernelspec": {
   "display_name": "Python 3 (ipykernel)",
   "language": "python",
   "name": "python3"
  },
  "language_info": {
   "codemirror_mode": {
    "name": "ipython",
    "version": 3
   },
   "file_extension": ".py",
   "mimetype": "text/x-python",
   "name": "python",
   "nbconvert_exporter": "python",
   "pygments_lexer": "ipython3",
   "version": "3.11.7"
  }
 },
 "nbformat": 4,
 "nbformat_minor": 5
}
